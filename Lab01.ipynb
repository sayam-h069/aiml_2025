{
  "cells": [
    {
      "cell_type": "markdown",
      "metadata": {
        "id": "view-in-github",
        "colab_type": "text"
      },
      "source": [
        "<a href=\"https://colab.research.google.com/github/sayam-h069/aiml_2025/blob/main/Lab01.ipynb\" target=\"_parent\"><img src=\"https://colab.research.google.com/assets/colab-badge.svg\" alt=\"Open In Colab\"/></a>"
      ]
    },
    {
      "cell_type": "markdown",
      "metadata": {
        "id": "JZbw9tL0kFUE"
      },
      "source": [
        "## Lab -01: Introduction to Python, matplotlib, Numpy"
      ]
    },
    {
      "cell_type": "markdown",
      "metadata": {
        "id": "FKotf-qMkR8D"
      },
      "source": [
        "**Part 1: Implement basic data strcutures using Numpy, Pandas**"
      ]
    },
    {
      "cell_type": "code",
      "execution_count": 1,
      "metadata": {
        "id": "2B76iy-2m9UD"
      },
      "outputs": [],
      "source": [
        "import numpy as np\n",
        "import matplotlib.pyplot as plt\n",
        "import pandas as pd"
      ]
    },
    {
      "cell_type": "code",
      "execution_count": 2,
      "metadata": {
        "colab": {
          "base_uri": "https://localhost:8080/"
        },
        "id": "LeS_SGt2kqUr",
        "outputId": "a73f8d68-d1b6-4f07-84a8-90c62bad8843"
      },
      "outputs": [
        {
          "output_type": "execute_result",
          "data": {
            "text/plain": [
              "([1, 2, 3, 4], array([1, 2, 3, 4]), array([1, 2, 3, 4]))"
            ]
          },
          "metadata": {},
          "execution_count": 2
        }
      ],
      "source": [
        "## Create a list, array\n",
        "list1 = [1,2,3,4]\n",
        "array1  = np.array(list1)\n",
        "array1\n",
        "array2 = np.array([1,2,3,4])\n",
        "list1, array1, array2"
      ]
    },
    {
      "cell_type": "code",
      "execution_count": 3,
      "metadata": {
        "colab": {
          "base_uri": "https://localhost:8080/"
        },
        "id": "tAQe2IANn5_J",
        "outputId": "e0b8c493-2baf-46f9-b75e-7017306940af"
      },
      "outputs": [
        {
          "output_type": "execute_result",
          "data": {
            "text/plain": [
              "(list, numpy.ndarray, numpy.ndarray)"
            ]
          },
          "metadata": {},
          "execution_count": 3
        }
      ],
      "source": [
        "## Identify the type of Data structure\n",
        "type(list1), type(array1), type(array2)"
      ]
    },
    {
      "cell_type": "code",
      "execution_count": 4,
      "metadata": {
        "colab": {
          "base_uri": "https://localhost:8080/"
        },
        "id": "DeuwTBsEoSuH",
        "outputId": "5d9e546f-3b15-435f-9de2-2ec82d113b39"
      },
      "outputs": [
        {
          "output_type": "stream",
          "name": "stdout",
          "text": [
            "Adding two arrays: [2 4 6 8]\n",
            "Subtracting two arrays: array1 - array2\n",
            "Multiplying two arrays: array1 * array2\n",
            "Dividing two arrays: array1 / array2)\n",
            "Exponentiating two arrays: array1 ** array2\n",
            "Multiply array to list: array2 * list1\n"
          ]
        }
      ],
      "source": [
        "## Perform Mathematical operations on arrays, lists\n",
        "print(\"Adding two arrays:\", array1 + array2)\n",
        "print(\"Subtracting two arrays: array1 - array2\")\n",
        "print(\"Multiplying two arrays: array1 * array2\")\n",
        "print(\"Dividing two arrays: array1 / array2)\")\n",
        "print(\"Exponentiating two arrays: array1 ** array2\")\n",
        "print(\"Multiply array to list: array2 * list1\")"
      ]
    },
    {
      "cell_type": "code",
      "execution_count": 5,
      "metadata": {
        "colab": {
          "base_uri": "https://localhost:8080/"
        },
        "id": "1Dy2FHn6pO6j",
        "outputId": "b10f4cd7-ec9c-4769-8f18-ef75f038115e"
      },
      "outputs": [
        {
          "output_type": "stream",
          "name": "stdout",
          "text": [
            "Adding [1 2 3 4] with [1 2 3 4]\n",
            "Result: [2 4 6 8]\n"
          ]
        }
      ],
      "source": [
        "# Combine text with Numpy function\n",
        "print(f\"Adding {array1} with {array2}\")\n",
        "print(f\"Result: {np.add(array1, array2)}\")"
      ]
    },
    {
      "cell_type": "code",
      "execution_count": 6,
      "metadata": {
        "colab": {
          "base_uri": "https://localhost:8080/"
        },
        "id": "djPmE1Gyq9Pk",
        "outputId": "46afc0ed-65c9-4619-e38e-174d307b874b"
      },
      "outputs": [
        {
          "output_type": "stream",
          "name": "stdout",
          "text": [
            "Sine value of array1:[ 0.84147098  0.90929743  0.14112001 -0.7568025 ]\n",
            "Log value of array1:[0.         0.69314718 1.09861229 1.38629436]\n",
            "Log base 2 value of array1:[0.        1.        1.5849625 2.       ]\n",
            "Log base 10 value of array1:[0.         0.30103    0.47712125 0.60205999]\n",
            "Exponential value of array1:[ 2.71828183  7.3890561  20.08553692 54.59815003]\n"
          ]
        }
      ],
      "source": [
        "# Find the Sin, Log, Log2, Exp values\n",
        "print(f\"Sine value of array1:{np.sin(array1)}\")\n",
        "print(f\"Log value of array1:{np.log(array1)}\")\n",
        "print(f\"Log base 2 value of array1:{np.log2(array1)}\")\n",
        "print(f\"Log base 10 value of array1:{np.log10(array1)}\")\n",
        "print(f\"Exponential value of array1:{np.exp(array1)}\")"
      ]
    },
    {
      "cell_type": "markdown",
      "metadata": {
        "id": "UDvFQ0pxTqPJ"
      },
      "source": [
        "## Part 02: Visualize the data using Matplotlib, pyplot Libraries"
      ]
    },
    {
      "cell_type": "code",
      "execution_count": 7,
      "metadata": {
        "id": "f3UERYcqT1T2"
      },
      "outputs": [],
      "source": [
        "import matplotlib.pyplot as plt"
      ]
    },
    {
      "cell_type": "code",
      "execution_count": 8,
      "metadata": {
        "id": "s20ZzSB4UAJK"
      },
      "outputs": [],
      "source": [
        "#Create the data\n",
        "people = ['kiran', 'arun', 'vijay', 'varun', \"vikas\"]\n",
        "age =[25, 30, 35, 40, 45]\n",
        "height =[145, 151, 165, 173, 190]\n",
        "weight=[45, 55, 65, 75, 90]"
      ]
    },
    {
      "cell_type": "code",
      "execution_count": 9,
      "metadata": {
        "colab": {
          "base_uri": "https://localhost:8080/",
          "height": 472
        },
        "id": "fD7F93YrUerR",
        "outputId": "542c8b31-2a42-4dc4-e377-01c981b1b8de"
      },
      "outputs": [
        {
          "output_type": "display_data",
          "data": {
            "text/plain": [
              "<Figure size 640x480 with 1 Axes>"
            ],
            "image/png": "[encoded data removed]"
          },
          "metadata": {}
        }
      ],
      "source": [
        "#Generate a scatter plot.\n",
        "# Find the relationship between Age and Height\n",
        "\n",
        "plt.scatter(age, height)\n",
        "plt.xlabel('Age')\n",
        "plt.ylabel('Height')\n",
        "plt.title('Age vs Height')\n",
        "plt.show()"
      ]
    },
    {
      "cell_type": "code",
      "execution_count": 10,
      "metadata": {
        "colab": {
          "base_uri": "https://localhost:8080/",
          "height": 428
        },
        "id": "PeOlL-4TVkeZ",
        "outputId": "4897290f-b2cd-4f24-b3b1-8f67955cf993"
      },
      "outputs": [
        {
          "output_type": "display_data",
          "data": {
            "text/plain": [
              "<Figure size 500x400 with 1 Axes>"
            ],
            "image/png": "[encoded data removed]"
          },
          "metadata": {}
        },
        {
          "output_type": "display_data",
          "data": {
            "text/plain": [
              "<Figure size 640x480 with 0 Axes>"
            ]
          },
          "metadata": {}
        }
      ],
      "source": [
        "#Genrate Bar Chart\n",
        "#Generate the bar Chart for Height.\n",
        "plt.figure(figsize=(5,4))\n",
        "plt.bar(people, height)\n",
        "plt.xlabel('People')\n",
        "plt.ylabel('Height')\n",
        "plt.title('Height of People')\n",
        "plt.show()\n",
        "save = plt.savefig('bar_chart.png')"
      ]
    },
    {
      "cell_type": "code",
      "execution_count": 10,
      "metadata": {
        "id": "aFgQQPPf5vaS"
      },
      "outputs": [],
      "source": []
    }
  ],
  "metadata": {
    "colab": {
      "provenance": [],
      "include_colab_link": true
    },
    "kernelspec": {
      "display_name": "Python 3 (ipykernel)",
      "language": "python",
      "name": "python3"
    },
    "language_info": {
      "codemirror_mode": {
        "name": "ipython",
        "version": 3
      },
      "file_extension": ".py",
      "mimetype": "text/x-python",
      "name": "python",
      "nbconvert_exporter": "python",
      "pygments_lexer": "ipython3",
      "version": "3.12.3"
    }
  },
  "nbformat": 4,
  "nbformat_minor": 0
}